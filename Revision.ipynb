{
 "cells": [
  {
   "cell_type": "code",
   "execution_count": 18,
   "metadata": {},
   "outputs": [],
   "source": [
    "class CompteBancaire():\n",
    "    \n",
    "    def __init__(self, newName, newSolde):\n",
    "        self.name = newName\n",
    "        self.solde = newSolde\n",
    "        \n",
    "    def __init__(self):\n",
    "        self.name = 'Dupont'\n",
    "        self.solde = 1000\n",
    "        \n",
    "    def depot(self, somme):\n",
    "        self.solde += somme\n",
    "        \n",
    "    def retrait(self, somme):\n",
    "        self.solde -= somme\n",
    "        \n",
    "    def affiche(self):\n",
    "        print(\"Le solde du compte bancaire de \", self.name, \" est de \", self.solde, \" euros.\")"
   ]
  },
  {
   "cell_type": "code",
   "execution_count": 17,
   "metadata": {},
   "outputs": [
    {
     "name": "stdout",
     "output_type": "stream",
     "text": [
      "Le solde du compte bancaire de  Duchmol  est de  950  euros.\n"
     ]
    }
   ],
   "source": [
    "compte1 = CompteBancaire('Duchmol', 800)\n",
    "compte1.depot(350)\n",
    "compte1.retrait(200)\n",
    "compte1.affiche()"
   ]
  },
  {
   "cell_type": "code",
   "execution_count": 19,
   "metadata": {},
   "outputs": [
    {
     "name": "stdout",
     "output_type": "stream",
     "text": [
      "Le solde du compte bancaire de  Dupont  est de  1025  euros.\n"
     ]
    }
   ],
   "source": [
    "compte2 = CompteBancaire()\n",
    "compte2.depot(25)\n",
    "compte2.affiche()"
   ]
  },
  {
   "cell_type": "code",
   "execution_count": 30,
   "metadata": {},
   "outputs": [],
   "source": [
    "class Point:        \n",
    "    def __init__(self, x, y, z = None):\n",
    "        self.x = float(x)\n",
    "        self.y = float(y)\n",
    "        \n",
    "        if z is None:\n",
    "            self.z = None\n",
    "        else:\n",
    "            self.z = float(z)\n",
    "        \n",
    "        \n",
    "    def ToString(self):\n",
    "        if self.z is None:\n",
    "            print(\"P(\", self.x, \" , \", self.y, \")\")\n",
    "        else:\n",
    "            print(\"P(\", self.x, \" , \", self.y, \" , \", self.z, \")\")"
   ]
  },
  {
   "cell_type": "code",
   "execution_count": 29,
   "metadata": {},
   "outputs": [
    {
     "name": "stdout",
     "output_type": "stream",
     "text": [
      "P( 2.0  ,  3.0 )\n"
     ]
    }
   ],
   "source": [
    "P1=Point(2,3)\n",
    "P1.ToString()"
   ]
  },
  {
   "cell_type": "code",
   "execution_count": 31,
   "metadata": {},
   "outputs": [
    {
     "name": "stdout",
     "output_type": "stream",
     "text": [
      "P( 1.0  ,  -5.0  ,  6.0 )\n"
     ]
    }
   ],
   "source": [
    "P2=Point(1,-5,6)\n",
    "P2.ToString()"
   ]
  },
  {
   "cell_type": "code",
   "execution_count": null,
   "metadata": {},
   "outputs": [],
   "source": [
    "class DateNaissance:\n",
    "    def __init__(self, day, mounth, year):\n",
    "        self.day = day\n",
    "        self.mounth = mounth\n",
    "        self.year = year\n",
    "        \n",
    "    def ToString(self):\n",
    "        print(\"Date de naissance: \", day, \" / \", mounth, \" / \", year)\n",
    "        \n",
    "class Personne(DateNaissance):\n",
    "    def __init__(self,)"
   ]
  }
 ],
 "metadata": {
  "kernelspec": {
   "display_name": "Python 3",
   "language": "python",
   "name": "python3"
  },
  "language_info": {
   "codemirror_mode": {
    "name": "ipython",
    "version": 3
   },
   "file_extension": ".py",
   "mimetype": "text/x-python",
   "name": "python",
   "nbconvert_exporter": "python",
   "pygments_lexer": "ipython3",
   "version": "3.7.6"
  }
 },
 "nbformat": 4,
 "nbformat_minor": 4
}
